{
 "cells": [
  {
   "cell_type": "code",
   "execution_count": 1,
   "metadata": {},
   "outputs": [
    {
     "data": {
      "text/html": [
       "\n",
       "        <div>\n",
       "            <p><b>SparkContext</b></p>\n",
       "\n",
       "            <p><a href=\"http://ip-172-31-26-204.us-east-2.compute.internal:4040\">Spark UI</a></p>\n",
       "\n",
       "            <dl>\n",
       "              <dt>Version</dt>\n",
       "                <dd><code>v2.3.2</code></dd>\n",
       "              <dt>Master</dt>\n",
       "                <dd><code>local[2]</code></dd>\n",
       "              <dt>AppName</dt>\n",
       "                <dd><code>sparkapp</code></dd>\n",
       "            </dl>\n",
       "        </div>\n",
       "        "
      ],
      "text/plain": [
       "<SparkContext master=local[2] appName=sparkapp>"
      ]
     },
     "execution_count": 1,
     "metadata": {},
     "output_type": "execute_result"
    }
   ],
   "source": [
    "from pyspark import SparkConf,SparkContext\n",
    "conf = SparkConf()\n",
    "conf.set(\"spark.master\",\"local[2]\")\n",
    "conf.set(\"spark.app.name\",\"sparkapp\")\n",
    "sc = SparkContext(conf=conf)\n",
    "sc"
   ]
  },
  {
   "cell_type": "code",
   "execution_count": 2,
   "metadata": {},
   "outputs": [
    {
     "data": {
      "text/plain": [
       "u'http://ip-172-31-26-204.us-east-2.compute.internal:4040'"
      ]
     },
     "execution_count": 2,
     "metadata": {},
     "output_type": "execute_result"
    }
   ],
   "source": [
    "sc.uiWebUrl"
   ]
  },
  {
   "cell_type": "code",
   "execution_count": 18,
   "metadata": {},
   "outputs": [
    {
     "name": "stdout",
     "output_type": "stream",
     "text": [
      "[u'123,#hyderabad,234.45', u'234,#chennai,345.45', u'345,#delhi,222.0', u'456,#bangalore,343.5']\n",
      "[[u'123', u'#hyderabad', u'234.45'], [u'234', u'#chennai', u'345.45'], [u'345', u'#delhi', u'222.0'], [u'456', u'#bangalore', u'343.5']]\n",
      "[(123, u'hyderabad', 234.45), (234, u'chennai', 345.45), (345, u'delhi', 222.0), (456, u'bangalore', 343.5)]\n",
      "+---+---------+------+\n",
      "| id|     city| score|\n",
      "+---+---------+------+\n",
      "|123|hyderabad|234.45|\n",
      "|234|  chennai|345.45|\n",
      "|345|    delhi| 222.0|\n",
      "|456|bangalore| 343.5|\n",
      "+---+---------+------+\n",
      "\n",
      "None\n",
      "root\n",
      " |-- id: long (nullable = true)\n",
      " |-- city: string (nullable = true)\n",
      " |-- score: double (nullable = true)\n",
      "\n",
      "None\n"
     ]
    }
   ],
   "source": [
    "from pyspark.sql import SQLContext\n",
    "\n",
    "sqlc = SQLContext(sc)  # To work with dataframe API this becomes essential.\n",
    "\n",
    "rd1 = sc.textFile(\"/home/ubuntu/sample.txt\")  #By default, every ecord will be a string\n",
    "print(rd1.collect())  #r1 is collection of strings\n",
    "rd2 = rd1.map(lambda x:x.split(\",\")) #split can be done with a single character or a string\n",
    "print(rd2.collect())   #each records is list of strings\n",
    "\n",
    "rd3 = rd2.map(lambda x:(int(x[0]),x[1][1:],float(x[2])))\n",
    "print(rd3.collect()) #re is tuple of (int,string)\n",
    "\n",
    "#we can create a dataframe from the above RDD\n",
    "\n",
    "df1 = rd3.toDF([\"id\",\"city\",\"score\"])\n",
    "print(df1.show())   \n",
    "print(df1.printSchema())"
   ]
  },
  {
   "cell_type": "code",
   "execution_count": 41,
   "metadata": {},
   "outputs": [],
   "source": [
    "from pyspark.sql.types import StructType,IntegerType,StringType,StructField\n",
    "\n",
    "cancer_schema = StructType([StructField(\"Id\",IntegerType()),StructField(\"NameOfPatient\",StringType()),StructField(\"Age\",IntegerType()),StructField(\"Gender\",StringType()),\n",
    "                           StructField(\"State\",StringType()),StructField(\"Symptoms\",StringType()),StructField(\"Diag\",StringType()),\n",
    "                           StructField(\"Can\",StringType()),StructField(\"Cancersc\",StringType()),StructField(\"Stage\",IntegerType()),\n",
    "                           StructField(\"Treatment\",StringType()),StructField(\"Survival\",StringType())])\n",
    "cancer_schema\n",
    "\n",
    "df2 = sqlc.read.format(\"csv\").option(\"header\",\"True\").schema(cancer_schema).load(\"/home/ubuntu/Datasets/cancerdata.csv\") #this works when the deleimter has exactly one character\n",
    "# print(df2.show(5))\n",
    "# print(df2.printSchema())\n",
    " \n",
    "# df2.select(\"ID\",\"State\").show(10)  #DSL Domaina specific Language\n",
    "# df2.where('Age>50').show(10)\n",
    "\n",
    "#To use pure SQL sytatemts on DF, create a table out of dataframe \n",
    "# df2.registerTempTable(\"cancertable\")\n",
    "# sqlc.sql(\"select * from cancertable where Age=50\").show(5)\n",
    "\n"
   ]
  },
  {
   "cell_type": "code",
   "execution_count": 46,
   "metadata": {},
   "outputs": [
    {
     "name": "stdout",
     "output_type": "stream",
     "text": [
      "42\n"
     ]
    }
   ],
   "source": [
    "df_json = sqlc.read.format(\"json\").load(\"/home/ubuntu/Datasets/companies.json\")\n",
    "# print(df_json.printSchema())\n",
    "# print(df_json.show(5))\n",
    "print(len(df_json.columns))"
   ]
  }
 ],
 "metadata": {
  "kernelspec": {
   "display_name": "Python 2",
   "language": "python",
   "name": "python2"
  },
  "language_info": {
   "codemirror_mode": {
    "name": "ipython",
    "version": 2
   },
   "file_extension": ".py",
   "mimetype": "text/x-python",
   "name": "python",
   "nbconvert_exporter": "python",
   "pygments_lexer": "ipython2",
   "version": "2.7.15+"
  }
 },
 "nbformat": 4,
 "nbformat_minor": 2
}
