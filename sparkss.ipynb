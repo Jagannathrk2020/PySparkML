{
 "cells": [
  {
   "cell_type": "code",
   "execution_count": 1,
   "metadata": {},
   "outputs": [
    {
     "data": {
      "text/html": [
       "\n",
       "            <div>\n",
       "                <p><b>SparkSession - hive</b></p>\n",
       "                \n",
       "        <div>\n",
       "            <p><b>SparkContext</b></p>\n",
       "\n",
       "            <p><a href=\"http://ip-172-31-26-204.us-east-2.compute.internal:4042\">Spark UI</a></p>\n",
       "\n",
       "            <dl>\n",
       "              <dt>Version</dt>\n",
       "                <dd><code>v2.3.3</code></dd>\n",
       "              <dt>Master</dt>\n",
       "                <dd><code>local</code></dd>\n",
       "              <dt>AppName</dt>\n",
       "                <dd><code>sessionapp</code></dd>\n",
       "            </dl>\n",
       "        </div>\n",
       "        \n",
       "            </div>\n",
       "        "
      ],
      "text/plain": [
       "<pyspark.sql.session.SparkSession at 0x7fee488f6150>"
      ]
     },
     "execution_count": 1,
     "metadata": {},
     "output_type": "execute_result"
    }
   ],
   "source": [
    "from pyspark.sql import SparkSession\n",
    "\n",
    "sparkss = SparkSession.builder.master('local').appName(\"sessionapp\").\\\n",
    "            config(\"hive.metastore.uris\",\"thrift://ip-172-31-39-16.us-east-2.compute.internal:9083\").\\\n",
    "            config(\"spark.sql.warehouse.dir\",\"hdfs://ip-172-31-39-16.us-east-2.compute.internal:8020/user/hive/warehouse\").\\\n",
    "            config(\"spark.jars.packages\",\"mysql:mysql-connector-java:5.1.27\").\\\n",
    "            enableHiveSupport().\\\n",
    "            getOrCreate()\n",
    "sparkss"
   ]
  },
  {
   "cell_type": "code",
   "execution_count": 2,
   "metadata": {},
   "outputs": [
    {
     "name": "stdout",
     "output_type": "stream",
     "text": [
      "+---+---+\n",
      "| _1| _2|\n",
      "+---+---+\n",
      "|  2|  3|\n",
      "|  3|  4|\n",
      "+---+---+\n",
      "\n"
     ]
    }
   ],
   "source": [
    "df2 = sparkss.createDataFrame([(2,3),(3,4)])\n",
    "df2.show()\n",
    "df2.registerTempTable(\"temp\")\n",
    "df2.write.saveAsTable(\"perm\")"
   ]
  },
  {
   "cell_type": "code",
   "execution_count": 5,
   "metadata": {},
   "outputs": [
    {
     "name": "stdout",
     "output_type": "stream",
     "text": [
      "+---+------+\n",
      "| id|  name|\n",
      "+---+------+\n",
      "|  1|hadoop|\n",
      "|  2| spark|\n",
      "+---+------+\n",
      "\n"
     ]
    }
   ],
   "source": [
    "df3 = sparkss.read.table(\"sample\")\n",
    "df3.show()"
   ]
  },
  {
   "cell_type": "code",
   "execution_count": 7,
   "metadata": {},
   "outputs": [
    {
     "data": {
      "text/plain": [
       "[u'sdgdsglsdg',\n",
       " u'dsgbdsgsd',\n",
       " u'gsndg',\n",
       " u'dsgnds',\n",
       " u'gnsdg',\n",
       " u'dsng',\n",
       " u'dsgk',\n",
       " u'']"
      ]
     },
     "execution_count": 7,
     "metadata": {},
     "output_type": "execute_result"
    }
   ],
   "source": [
    "rdd = sparkss.sparkContext.textFile(\"hdfs://ip-172-31-39-16.us-east-2.compute.internal:8020/testdata\")\n",
    "rdd.collect()\n",
    "# still sparkcontext is needed to craete RDDs\n"
   ]
  },
  {
   "cell_type": "code",
   "execution_count": 9,
   "metadata": {},
   "outputs": [],
   "source": [
    "# sc  = sparkss.sparkContext\n",
    "# sc"
   ]
  },
  {
   "cell_type": "code",
   "execution_count": 11,
   "metadata": {},
   "outputs": [
    {
     "name": "stdout",
     "output_type": "stream",
     "text": [
      "+---+\n",
      "| id|\n",
      "+---+\n",
      "|  1|\n",
      "|  2|\n",
      "|  3|\n",
      "|  4|\n",
      "|  5|\n",
      "|  6|\n",
      "|  7|\n",
      "|  8|\n",
      "|  9|\n",
      "+---+\n",
      "\n"
     ]
    },
    {
     "data": {
      "text/plain": [
       "DataFrame[id: bigint]"
      ]
     },
     "execution_count": 11,
     "metadata": {},
     "output_type": "execute_result"
    }
   ],
   "source": [
    "ds = sparkss.range(1,10)\n",
    "ds.show()\n",
    "ds"
   ]
  },
  {
   "cell_type": "code",
   "execution_count": 2,
   "metadata": {},
   "outputs": [
    {
     "name": "stdout",
     "output_type": "stream",
     "text": [
      "+----------+------------+--------------------+-------------+--------------------+--------------------------+------------------------------+------------------+--------+------+-----------+----------+------+------------+--------------------+---------------------------+------------------+-------------+---------------+--------------------+-----------+-----------------+----------------------------+-------------------+------------------+--------------------+---------------------+-----------+-------------------+-------------+--------------+------------+--------------------+\n",
      "|    MDN_NO| X_CAF_NUMBE|         CUST_S_NAME|DATE_OF_BIRTH|         FATHER_NAME|LOCAL_ADDRESS_OF_SBSCRIBER|PERMANENT_ADDRESS_OF_SBSCRIBER|ALTERNATE_PHONE_NO|EMAIL_ID|GENDER|NATIONALITY|PROFESSION|PAN_NO|      UID_NO|       PHOTO_ID_TYPE|ADDRESS_PROOF_DOCUMENT_TYPE|STATUS_OF_CUSTOMER|BUSINESS_TYPE|        IMSI_NO|MNP_SERVICE_PROVIDER|IMSI_CIRCLE|SIM_ACTIVATE_DATE|CURRENT_STATUS_OF_CONNECTION|MNP_PREVIOUS_CIRCLE|POINT_OF_SALE_CODE|  POINT_OF_SALE_NAME|POINT_OF_SALE_ADDRESS|TARIFF_PLAN|SCANNED_PHOTOGRAPHY|LICENSEE_NAME|LICENSEE_DESIG|PRODUCT_TYPE|             MY_TYPE|\n",
      "+----------+------------+--------------------+-------------+--------------------+--------------------------+------------------------------+------------------+--------+------+-----------+----------+------+------------+--------------------+---------------------------+------------------+-------------+---------------+--------------------+-----------+-----------------+----------------------------+-------------------+------------------+--------------------+---------------------+-----------+-------------------+-------------+--------------+------------+--------------------+\n",
      "|9533129480|701756768823|RAMESHGOUD THIPPA...|    10-JUN-83|BALRAJGOUDTHIPPAP...|      H NO 5 15 1!KOTHA...|          H NO 5 15 1!KOTHA...|              null|    null|     M|     INDIAN|  SALERIED|  null|NOTAVAILABLE|Election Commisio...|       876817527741!09-J...| Reliance Consumer|      PREPAID|405010048315011|                    |         AP|        09-JAN-15|                      ACTIVE|                   |          21492585|     RANDARI KIRANAM| MAIN ROADMEDAK!MA...|       null|                   | MR MAQSUD MD|           TSM|         GSM|             PREPAID|\n",
      "|9533141885|700512869615|           SOMAIAH V|    01-JAN-72|          KANAKAIAHV|      HNO 1 11  MANPAHA...|                          !!!!|              null|    null|  null|     INDIAN|      null|  null|        null|Photo RationCard ...|                        !!!| Reliance Consumer|      PREPAID|405010037216676|                    |         AP|        26-MAY-12|                      ACTIVE|                   |             01225|                null|               !!! ! |       null|                   |         null|          null|         GSM|             PREPAID|\n",
      "|7569701454|702383287771|             ABDUL S|    01-JAN-94|            JALEEL S|      00!SETTIGUNTA!CUD...|          00!SETTIGUNTA!CUD...|              null|    null|     M|     INDIAN|  SALERIED|  null|NOTAVAILABLE|Aadhar-UniqueID i...|       718605592787!16-J...| Reliance Consumer|      PREPAID|405010053020770|                    |         AP|        10-JUN-16|                      ACTIVE|                   |           7152288|     COMPUTER PARK-2| MAIN ROAD TIRUPAT...|       null|                   |  MR SEKHAR A|       OFFICER|         GSM|             PREPAID|\n",
      "|9533678499|701687380634|         LOKESH VARR|    01-JAN-80|            PRAKASHP|      1 10 4 7 KUSHAIGU...|          1 10 4 7 KUSHAIGU...|              null|    null|     M|     INDIAN|  SALERIED|  null|NOTAVAILABLE|Election Commisio...|       YZK0264788!01-JAN...| Reliance Consumer|      PREPAID|405010048204294|                    |         AP|        22-JAN-15|                      ACTIVE|                   |          11457390|srinivasa general...| kachiguda!kachigu...|       null|                   |   MR S ASHOK|       OFFICER|         GSM|             PREPAID|\n",
      "|9392694104|  7228582288|SATYAVATHI SARVAS...|    01-JUL-70|                null|      DNO89-17-46/2!MOR...|                          !!!!|        9392694104|    null|  null|     INDIAN|      null|  null|        null|        PHOTO ID!!!!|                        !!!| Reliance Consumer|      PREPAID|405011000145879|                    |         AP|        14-JUN-08|                      ACTIVE|                   |        8088300088|    M/STEJA AGENCIES| Lakshmi Varapupet...|       PPAD|                   |         null|          null|        CDMA|CDMA_UPGRADING_TO...|\n",
      "+----------+------------+--------------------+-------------+--------------------+--------------------------+------------------------------+------------------+--------+------+-----------+----------+------+------------+--------------------+---------------------------+------------------+-------------+---------------+--------------------+-----------+-----------------+----------------------------+-------------------+------------------+--------------------+---------------------+-----------+-------------------+-------------+--------------+------------+--------------------+\n",
      "only showing top 5 rows\n",
      "\n"
     ]
    }
   ],
   "source": [
    "df1 = sparkss.read.format(\"jdbc\").\\\n",
    "        option(\"driver\",\"com.mysql.jdbc.Driver\").\\\n",
    "        option(\"url\",\"jdbc:mysql://sparkmysqlinstance.cxzqaozjc6i9.us-east-2.rds.amazonaws.com:3306/\").\\\n",
    "        option('dbtable','sparkdatabase.Telecom_table').\\\n",
    "        option(\"user\",\"sparkmysql\").\\\n",
    "        option(\"password\",\"Karna.3009\").\\\n",
    "        load() \n",
    "df1.show(5)\n",
    "# df1.printSchema()"
   ]
  },
  {
   "cell_type": "code",
   "execution_count": 3,
   "metadata": {},
   "outputs": [
    {
     "name": "stdout",
     "output_type": "stream",
     "text": [
      "done\n"
     ]
    }
   ],
   "source": [
    "df1.write.format(\"orc\").save(\"/home/ubuntu/Telecomdata\")\n",
    "print(\"done\")"
   ]
  }
 ],
 "metadata": {
  "kernelspec": {
   "display_name": "Python 3",
   "language": "python",
   "name": "python3"
  },
  "language_info": {
   "codemirror_mode": {
    "name": "ipython",
    "version": 2
   },
   "file_extension": ".py",
   "mimetype": "text/x-python",
   "name": "python",
   "nbconvert_exporter": "python",
   "pygments_lexer": "ipython2",
   "version": "2.7.15+"
  }
 },
 "nbformat": 4,
 "nbformat_minor": 2
}
