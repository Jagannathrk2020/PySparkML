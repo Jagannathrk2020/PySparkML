{
 "cells": [
  {
   "cell_type": "code",
   "execution_count": 1,
   "metadata": {},
   "outputs": [
    {
     "data": {
      "text/plain": [
       "<pyspark.sql.context.SQLContext at 0x7f28b4363cd0>"
      ]
     },
     "execution_count": 1,
     "metadata": {},
     "output_type": "execute_result"
    }
   ],
   "source": [
    "from pyspark import SparkConf,SparkContext\n",
    "from pyspark.sql import SQLContext\n",
    "conf = SparkConf()\n",
    "conf.set(\"spark.master\",\"local\")\n",
    "conf.set(\"spark.app.name\",\"sparkapp\")\n",
    "sc = SparkContext(conf=conf)\n",
    "sqlc = SQLContext(sc)\n",
    "sqlc"
   ]
  },
  {
   "cell_type": "code",
   "execution_count": 8,
   "metadata": {},
   "outputs": [
    {
     "name": "stdout",
     "output_type": "stream",
     "text": [
      "+-----+--------------------+---+----------------+\n",
      "| Name|             address| id|           marks|\n",
      "+-----+--------------------+---+----------------+\n",
      "|Vijay|[Hno -> 4023/45, ...|101|[78, 67, 45, 90]|\n",
      "|Priya|[Hno -> 2-3-45, P...|102|[90, 67, 80, 70]|\n",
      "+-----+--------------------+---+----------------+\n",
      "\n",
      "root\n",
      " |-- Name: string (nullable = true)\n",
      " |-- address: map (nullable = true)\n",
      " |    |-- key: string\n",
      " |    |-- value: string (valueContainsNull = true)\n",
      " |-- id: long (nullable = true)\n",
      " |-- marks: array (nullable = true)\n",
      " |    |-- element: long (containsNull = true)\n",
      "\n",
      "+---+-----+---------+------+\n",
      "| id| Name|     city|   PIN|\n",
      "+---+-----+---------+------+\n",
      "|101|Vijay| Hyderbad|500006|\n",
      "|102|Priya|Bangalore|600003|\n",
      "+---+-----+---------+------+\n",
      "\n"
     ]
    }
   ],
   "source": [
    "from pyspark.sql import Row\n",
    "r1 = Row(id=101,address={\"street\":\"Nehru street\",\"Hno\":\"4023/45\",\"city\":\"Hyderbad\",\"PIN\":500006},marks=[78,67,45,90],Name=\"Vijay\")\n",
    "r2 = Row(Name=\"Priya\",address={\"Hno\":\"2-3-45\",\"city\":\"Bangalore\",\"PIN\":600003},marks=[90,67,80,70],id=102)\n",
    "\n",
    "df1 = sqlc.createDataFrame([r1,r2])\n",
    "df1.show()\n",
    "df1.printSchema()\n",
    "# df1.selectExpr(\"id\",\"Name\",\"address.city\",\"address.PIN\").show()\n",
    "# df1.selectExpr(\"id\",\"Name\",\"marks[0]\").show()"
   ]
  },
  {
   "cell_type": "code",
   "execution_count": 12,
   "metadata": {},
   "outputs": [
    {
     "name": "stdout",
     "output_type": "stream",
     "text": [
      "<type 'dict'>\n"
     ]
    }
   ],
   "source": [
    "d = {\"name\":\"karna\",\"age\":35,\"score\":2.5}\n",
    "print(type(d))"
   ]
  },
  {
   "cell_type": "code",
   "execution_count": 13,
   "metadata": {},
   "outputs": [
    {
     "data": {
      "text/plain": [
       "StructType(List(StructField(Name,StringType,true),StructField(address,MapType(StringType,StringType,true),true),StructField(id,LongType,true),StructField(marks,ArrayType(LongType,true),true)))"
      ]
     },
     "execution_count": 13,
     "metadata": {},
     "output_type": "execute_result"
    }
   ],
   "source": [
    "df1.schema"
   ]
  },
  {
   "cell_type": "code",
   "execution_count": 18,
   "metadata": {},
   "outputs": [
    {
     "name": "stdout",
     "output_type": "stream",
     "text": [
      "+---+---+\n",
      "| id|col|\n",
      "+---+---+\n",
      "|101| 78|\n",
      "|101| 67|\n",
      "|101| 45|\n",
      "|101| 90|\n",
      "|102| 90|\n",
      "|102| 67|\n",
      "|102| 80|\n",
      "|102| 70|\n",
      "+---+---+\n",
      "\n"
     ]
    }
   ],
   "source": [
    "from pyspark.sql.functions import *\n",
    "df2 = df1.select(\"id\",\"marks\")\n",
    "df3 = df2.select(\"id\",explode(\"marks\"))\n",
    "df3.show()"
   ]
  },
  {
   "cell_type": "code",
   "execution_count": 22,
   "metadata": {},
   "outputs": [
    {
     "data": {
      "text/plain": [
       "267"
      ]
     },
     "execution_count": 22,
     "metadata": {},
     "output_type": "execute_result"
    }
   ],
   "source": [
    "sqlc.sql(\"show functions\").count()"
   ]
  },
  {
   "cell_type": "code",
   "execution_count": 31,
   "metadata": {},
   "outputs": [
    {
     "name": "stdout",
     "output_type": "stream",
     "text": [
      "[Row(Name=u'Vijay', address={u'city': u'Hyderbad', u'street': u'Nehru street', u'PIN': u'500006', u'Hno': u'4023/45'}, id=101, marks=[78, 67, 45, 90]), Row(Name=u'Priya', address={u'city': u'Bangalore', u'PIN': u'600003', u'Hno': u'2-3-45'}, id=102, marks=[90, 67, 80, 70])]\n",
      "[(1, 2), (2, 3), (3, 4)]\n",
      "+---+---+\n",
      "|id1|id2|\n",
      "+---+---+\n",
      "|  1|  2|\n",
      "|  2|  3|\n",
      "|  3|  4|\n",
      "+---+---+\n",
      "\n",
      "+-----+--------------------+---+----------------+\n",
      "| Name|             address| id|           marks|\n",
      "+-----+--------------------+---+----------------+\n",
      "|Vijay|[Hno -> 4023/45, ...|101|[78, 67, 45, 90]|\n",
      "|Priya|[Hno -> 2-3-45, P...|102|[90, 67, 80, 70]|\n",
      "+-----+--------------------+---+----------------+\n",
      "\n"
     ]
    }
   ],
   "source": [
    "rd1 = df1.rdd  # CREATION OF RDD OUT OF DATAFRAME \n",
    "print(rd1.collect())\n",
    "rd3 = sc.parallelize([(1,2),(2,3),(3,4)])\n",
    "print(rd3.collect())\n",
    "rd3.toDF([\"id1\",\"id2\"]).show() # CREATEION OF DF OUT OF RDD\n",
    "rd1.toDF().show()\n"
   ]
  },
  {
   "cell_type": "code",
   "execution_count": 25,
   "metadata": {},
   "outputs": [
    {
     "data": {
      "text/plain": [
       "[1, 2, 3, 4, 5]"
      ]
     },
     "execution_count": 25,
     "metadata": {},
     "output_type": "execute_result"
    }
   ],
   "source": [
    "rd2 = sc.parallelize([1,2,3,4,5])\n",
    "rd2.collect()\n"
   ]
  },
  {
   "cell_type": "code",
   "execution_count": 35,
   "metadata": {},
   "outputs": [
    {
     "name": "stdout",
     "output_type": "stream",
     "text": [
      "Mon Jan 20 00:00:00 -0800 2014, {\"cl\":\"js\",\"ua\":\"Mozilla/5.0 (Windows NT 6.1; rv:26.0) Gecko/20100101 Firefox/26.0\",\"ip\":\"50.46.171.77\",\"cc\":\"US\",\"rg\":\"WA\",\"ct\":\"Everett\",\"pc\":\"98208\",\"mc\":819,\"bf\":\"cd21df8fdaa6eee6b8af906ab1345fe6ce797ad1\",\"vst\":\"56941a03-b0bd-4f93-912c-f90ba0dc4159\",\"lt\":\"Sun Jan 19 23:59:39 -0800 2014\"}, {\"v\":\"1.1\",\"e\":\"block\",\"et\":\"keyword\",\"t\":\"10957643\",\"u\":\"http://www.rantsports.com/clubhouse/wp-content/slideshow/2013/09/15-pictures-of-nfl-cheerleaders-who-should-put-on-more-clothes/medium/cheerleadersss-Kirby-Lee-USA-TODAY-Sports1.jpg\",\"pu\":\"http://www.rantsports.com/clubhouse/2013/09/22/15-nfl-cheerleaders-who-should-put-on-more-clothes/?utm_medium=referral&utm_source=nRelate\",\"bk\":\"nude\",\"pv\":\"98580188-4abd-4a1e-ae98-6e21be2d2c5d\"}\n",
      "Mon Jan 20 00:00:00 -0800 2014, {\"cl\":\"js\",\"ua\":\"Mozilla/5.0 (Macintosh; Intel Mac OS X 10_9_1) AppleWebKit/537.36 (KHTML, like Gecko) Chrome/32.0.1700.77 Safari/537.36\",\"ip\":\"38.69.50.179\",\"cc\":\"US\",\"rg\":\"IL\",\"ct\":\"Chicago\",\"pc\":\"60616\",\"mc\":602,\"bf\":\"ec8498f87549a798e738fce5b312a791f1a4d683\",\"vst\":\"761df6d3-8747-4939-b5f9-f2ecdb95b419\",\"lt\":\"Mon Jan 20 02:00:00 -0600 2014\"}, {\"v\":\"1.1\",\"e\":\"block\",\"et\":\"keyword\",\"t\":\"e0b5822c\",\"u\":\"http://cdn01.cdnwp.celebuzz.com/wp-content/uploads/legacy/celebuzz/default/msg-127310264361-3.jpg\",\"pu\":\"http://www.celebuzz.com/photos/miley-cyrus-10-most-inappropriate-moments/9-saying-she-d-do-10/\",\"bk\":\"sex photos\",\"pv\":\"8a529597-a4f0-45e8-9e7e-ef5ccb1aa169\"}\n",
      "\n"
     ]
    }
   ],
   "source": [
    "import subprocess\n",
    "res = subprocess.check_output([\"head\",\"-2\",\"/home/ubuntu/Datasets/ad-events_2014-01-20_00_domU-12-31-39-01-A1-34\"])\n",
    "print(res)"
   ]
  },
  {
   "cell_type": "code",
   "execution_count": 39,
   "metadata": {},
   "outputs": [
    {
     "name": "stdout",
     "output_type": "stream",
     "text": [
      "+---+------------+--------+\n",
      "|age|       marks|    name|\n",
      "+---+------------+--------+\n",
      "| 34|[23, 45, 56]|   kiran|\n",
      "| 40|[50, 60, 70]|santhosh|\n",
      "+---+------------+--------+\n",
      "\n"
     ]
    }
   ],
   "source": [
    "jdf1 = sqlc.read.format(\"json\").load(\"/home/ubuntu/sample.json\")\n",
    "jdf1.show()"
   ]
  }
 ],
 "metadata": {
  "kernelspec": {
   "display_name": "Python 3",
   "language": "python",
   "name": "python3"
  },
  "language_info": {
   "codemirror_mode": {
    "name": "ipython",
    "version": 2
   },
   "file_extension": ".py",
   "mimetype": "text/x-python",
   "name": "python",
   "nbconvert_exporter": "python",
   "pygments_lexer": "ipython2",
   "version": "2.7.15+"
  }
 },
 "nbformat": 4,
 "nbformat_minor": 2
}
