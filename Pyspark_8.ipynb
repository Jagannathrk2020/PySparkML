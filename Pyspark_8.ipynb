{
 "cells": [
  {
   "cell_type": "code",
   "execution_count": 10,
   "metadata": {},
   "outputs": [],
   "source": [
    "from pyspark import SparkConf,SparkContext\n",
    "from pyspark.sql import SQLContext\n",
    "conf = SparkConf()\n",
    "conf.set(\"spark.master\",\"local[3]\")\n",
    "conf.set(\"spark.app.name\",\"sparkapp\")\n",
    "sc = SparkContext(conf=conf)\n",
    "sqlc = SQLContext(sc)"
   ]
  },
  {
   "cell_type": "code",
   "execution_count": 11,
   "metadata": {},
   "outputs": [
    {
     "data": {
      "text/plain": [
       "<pyspark.sql.context.SQLContext at 0x7f3f0f921d50>"
      ]
     },
     "execution_count": 11,
     "metadata": {},
     "output_type": "execute_result"
    }
   ],
   "source": [
    "sqlc"
   ]
  },
  {
   "cell_type": "code",
   "execution_count": 12,
   "metadata": {},
   "outputs": [
    {
     "name": "stdout",
     "output_type": "stream",
     "text": [
      "+------+-----+----+----+--------+-----------------+---------+---------+--------+-----+---------+--------+\n",
      "|    ID| Name| Age| Sex|   State|         Symptoms|Diagnosis|   Cancer|CancerSc|Stage|Treatment|Survival|\n",
      "+------+-----+----+----+--------+-----------------+---------+---------+--------+-----+---------+--------+\n",
      "|  null| null|null|null|    null|             null|     null|     null|    null| null|     null|    null|\n",
      "|100001|David|  45|   M| ALAMAMA|RED ITCHY PATCHES|   BIOPSY|MALIGNANT|    SKIN|    1|RESECTION|     YES|\n",
      "|100002| John|  56|   M|  ALASKA|      BLOOD COUGH| PET SCAN|MALIGNANT|THORACIC|    2|  SURGERY|     YES|\n",
      "|100003| Paul|  65|   M| ARIZONA|RED ITCHY PATCHES|   BIOPSY|MALIGNANT|    SKIN|    3|RESECTION|      NO|\n",
      "|100004| Mark|  35|   M|ARKANSAS|      BLOOD COUGH| PET SCAN|MALIGNANT|THORACIC|    3|  SURGERY|      NO|\n",
      "+------+-----+----+----+--------+-----------------+---------+---------+--------+-----+---------+--------+\n",
      "only showing top 5 rows\n",
      "\n"
     ]
    }
   ],
   "source": [
    "df1 = sqlc.read.format(\"csv\").option(\"header\",\"True\").option(\"inferSchema\",\"True\").load(\"/home/ubuntu/Datasets/cancerdata.csv\")\n",
    "df1.show(5)"
   ]
  },
  {
   "cell_type": "code",
   "execution_count": 18,
   "metadata": {},
   "outputs": [
    {
     "name": "stdout",
     "output_type": "stream",
     "text": [
      "+------+-----+----+----+--------+-----------------+---------+---------+--------+-----+---------+--------+\n",
      "|    ID| Name| Age| Sex|   State|         Symptoms|Diagnosis|   Cancer|CancerSc|Stage|Treatment|Survival|\n",
      "+------+-----+----+----+--------+-----------------+---------+---------+--------+-----+---------+--------+\n",
      "|  null| null|null|null|    null|             null|     null|     null|    null| null|     null|    null|\n",
      "|100001|David|  45|   M| ALAMAMA|RED ITCHY PATCHES|   BIOPSY|MALIGNANT|    SKIN|    1|RESECTION|     YES|\n",
      "|100002| John|  56|   M|  ALASKA|      BLOOD COUGH| PET SCAN|MALIGNANT|THORACIC|    2|  SURGERY|     YES|\n",
      "|100003| Paul|  65|   M| ARIZONA|RED ITCHY PATCHES|   BIOPSY|MALIGNANT|    SKIN|    3|RESECTION|      NO|\n",
      "|100004| Mark|  35|   M|ARKANSAS|      BLOOD COUGH| PET SCAN|MALIGNANT|THORACIC|    3|  SURGERY|      NO|\n",
      "+------+-----+----+----+--------+-----------------+---------+---------+--------+-----+---------+--------+\n",
      "\n",
      "+------+-----+----+----+--------+-----------------+---------+---------+--------+-----+---------+--------+\n",
      "|    ID| Name| Age| Sex|   State|         Symptoms|Diagnosis|   Cancer|CancerSc|Stage|Treatment|Survival|\n",
      "+------+-----+----+----+--------+-----------------+---------+---------+--------+-----+---------+--------+\n",
      "|  null| null|null|null|    null|             null|     null|     null|    null| null|     null|    null|\n",
      "|100001|David|  45|   M| ALAMAMA|RED ITCHY PATCHES|   BIOPSY|MALIGNANT|    SKIN|    1|RESECTION|     YES|\n",
      "|100002| John|  56|   M|  ALASKA|      BLOOD COUGH| PET SCAN|MALIGNANT|THORACIC|    2|  SURGERY|     YES|\n",
      "|100003| Paul|  65|   M| ARIZONA|RED ITCHY PATCHES|   BIOPSY|MALIGNANT|    SKIN|    3|RESECTION|      NO|\n",
      "|100004| Mark|  35|   M|ARKANSAS|      BLOOD COUGH| PET SCAN|MALIGNANT|THORACIC|    3|  SURGERY|      NO|\n",
      "+------+-----+----+----+--------+-----------------+---------+---------+--------+-----+---------+--------+\n",
      "\n"
     ]
    }
   ],
   "source": [
    "df1.createOrReplaceTempView(\"temptable\")\n",
    "df1.write.saveAsTable(\"permtable\")\n",
    "sqlc.sql(\"select * from temptable limit 5\").show()\n",
    "sqlc.sql(\"select * from permtable limit 5\").show()\n",
    "df1.write.format(\"json\").saveAsTable(\"jsontable\")"
   ]
  },
  {
   "cell_type": "code",
   "execution_count": 15,
   "metadata": {},
   "outputs": [],
   "source": [
    "# df1.write.partitionBy(\"Sex\").saveAsTable(\"ptable1\")\n",
    "df1.write.format(\"orc\").partitionBy(\"Sex\",\"State\").mode(\"append\").saveAsTable(\"ptable1\")"
   ]
  },
  {
   "cell_type": "code",
   "execution_count": 16,
   "metadata": {},
   "outputs": [],
   "source": [
    "df1.write.bucketBy(4,\"ID\").saveAsTable(\"btable1\")"
   ]
  },
  {
   "cell_type": "code",
   "execution_count": 19,
   "metadata": {},
   "outputs": [
    {
     "name": "stdout",
     "output_type": "stream",
     "text": [
      "+--------+---------+-----------+\n",
      "|database|tableName|isTemporary|\n",
      "+--------+---------+-----------+\n",
      "| default|  btable1|      false|\n",
      "| default|jsontable|      false|\n",
      "| default|permtable|      false|\n",
      "| default|  ptable1|      false|\n",
      "|        |temptable|       true|\n",
      "+--------+---------+-----------+\n",
      "\n"
     ]
    }
   ],
   "source": [
    "sqlc.sql(\"show tables\").show()"
   ]
  },
  {
   "cell_type": "code",
   "execution_count": 23,
   "metadata": {},
   "outputs": [],
   "source": [
    "df1.write.partitionBy(\"Age\").bucketBy(3,\"Sex\").mode(\"overwrite\").saveAsTable(\"pbtable\")"
   ]
  },
  {
   "cell_type": "code",
   "execution_count": 26,
   "metadata": {},
   "outputs": [
    {
     "name": "stdout",
     "output_type": "stream",
     "text": [
      "+---+----+---+---+-----+--------+---------+------+--------+-----+---------+--------+\n",
      "| ID|Name|Age|Sex|State|Symptoms|Diagnosis|Cancer|CancerSc|Stage|Treatment|Survival|\n",
      "+---+----+---+---+-----+--------+---------+------+--------+-----+---------+--------+\n",
      "+---+----+---+---+-----+--------+---------+------+--------+-----+---------+--------+\n",
      "\n"
     ]
    }
   ],
   "source": [
    "df1.filter(\"Sex!='M' and Sex!='F'\").show()"
   ]
  },
  {
   "cell_type": "code",
   "execution_count": 39,
   "metadata": {},
   "outputs": [
    {
     "name": "stdout",
     "output_type": "stream",
     "text": [
      "+----+\n",
      "| Sex|\n",
      "+----+\n",
      "|   F|\n",
      "|null|\n",
      "|   M|\n",
      "| xyz|\n",
      "+----+\n",
      "\n"
     ]
    }
   ],
   "source": [
    "from pyspark.sql import Row\n",
    "r1 = Row(ID=101,Name=\"xyz\",Age=20,Sex=\"\",State=\"xyz\",Symptoms=\"xyz\",Diagnosis=\"xyz\",Cancer=\"xyz\",CancerSc=\"xyz\",Stage=\"xyz\",Treatment=\"xyz\",Survival=\"xyz\")\n",
    "df2 = sqlc.createDataFrame([r1])\n",
    "# df2.show()\n",
    "\n",
    "# df2.filter(\"Sex!='M' and Sex!='F'\").show()\n",
    "\n",
    "df3 = df1.union(df2)\n",
    "# df3.show(5)\n"
   ]
  },
  {
   "cell_type": "code",
   "execution_count": 41,
   "metadata": {},
   "outputs": [
    {
     "name": "stdout",
     "output_type": "stream",
     "text": [
      "+----+\n",
      "| Sex|\n",
      "+----+\n",
      "|   F|\n",
      "|null|\n",
      "|   M|\n",
      "| xyz|\n",
      "+----+\n",
      "\n"
     ]
    }
   ],
   "source": [
    "df3.select(\"Sex\").distinct().show()"
   ]
  },
  {
   "cell_type": "code",
   "execution_count": 42,
   "metadata": {},
   "outputs": [],
   "source": [
    "df3.write.partitionBy(\"Age\").bucketBy(3,\"Sex\").mode(\"overwrite\").saveAsTable(\"pbtable2\")"
   ]
  },
  {
   "cell_type": "code",
   "execution_count": 44,
   "metadata": {},
   "outputs": [
    {
     "name": "stdout",
     "output_type": "stream",
     "text": [
      "+---+\n",
      "|Sex|\n",
      "+---+\n",
      "|  F|\n",
      "|  M|\n",
      "+---+\n",
      "\n"
     ]
    }
   ],
   "source": [
    "df3.select(\"Sex\").where(\"Age=20\").distinct().show()"
   ]
  },
  {
   "cell_type": "code",
   "execution_count": 48,
   "metadata": {},
   "outputs": [
    {
     "name": "stdout",
     "output_type": "stream",
     "text": [
      "+----+--------+\n",
      "| Sex|count(1)|\n",
      "+----+--------+\n",
      "|   F|    6000|\n",
      "|null|       1|\n",
      "|   M|    4000|\n",
      "| xyz|       1|\n",
      "+----+--------+\n",
      "\n"
     ]
    }
   ],
   "source": [
    "from pyspark.sql.functions import *\n",
    "df3.groupBy(\"Sex\").agg(count(\"*\")).show()"
   ]
  }
 ],
 "metadata": {
  "kernelspec": {
   "display_name": "Python 3",
   "language": "python",
   "name": "python3"
  },
  "language_info": {
   "codemirror_mode": {
    "name": "ipython",
    "version": 2
   },
   "file_extension": ".py",
   "mimetype": "text/x-python",
   "name": "python",
   "nbconvert_exporter": "python",
   "pygments_lexer": "ipython2",
   "version": "2.7.15+"
  }
 },
 "nbformat": 4,
 "nbformat_minor": 2
}
