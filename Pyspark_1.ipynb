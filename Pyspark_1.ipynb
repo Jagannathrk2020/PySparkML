{
 "cells": [
  {
   "cell_type": "code",
   "execution_count": 1,
   "metadata": {},
   "outputs": [
    {
     "data": {
      "text/html": [
       "\n",
       "        <div>\n",
       "            <p><b>SparkContext</b></p>\n",
       "\n",
       "            <p><a href=\"http://ip-172-31-26-204.us-east-2.compute.internal:4040\">Spark UI</a></p>\n",
       "\n",
       "            <dl>\n",
       "              <dt>Version</dt>\n",
       "                <dd><code>v2.3.2</code></dd>\n",
       "              <dt>Master</dt>\n",
       "                <dd><code>local[2]</code></dd>\n",
       "              <dt>AppName</dt>\n",
       "                <dd><code>setoperations</code></dd>\n",
       "            </dl>\n",
       "        </div>\n",
       "        "
      ],
      "text/plain": [
       "<SparkContext master=local[2] appName=setoperations>"
      ]
     },
     "execution_count": 1,
     "metadata": {},
     "output_type": "execute_result"
    }
   ],
   "source": [
    "from pyspark import SparkConf,SparkContext\n",
    "conf = SparkConf()\n",
    "conf.set(\"spark.master\",\"local[2]\")\n",
    "conf.set(\"spark.app.name\",\"setoperations\")\n",
    "sc = SparkContext(conf=conf)\n",
    "sc"
   ]
  },
  {
   "cell_type": "code",
   "execution_count": 11,
   "metadata": {},
   "outputs": [
    {
     "name": "stdout",
     "output_type": "stream",
     "text": [
      "0\n"
     ]
    }
   ],
   "source": [
    "import os\n",
    "files = os.listdir(\"/home/ubuntu/Datasets\")\n",
    "# for file in files:\n",
    "#     print(file)\n",
    "# os.remove(\"/home/ubuntu/Datasets/Untitled.ipynb\")   \n",
    "os.system(\"ls -l -h /home/ubuntu/Datasets > abc.txt \")\n"
   ]
  },
  {
   "cell_type": "code",
   "execution_count": 19,
   "metadata": {},
   "outputs": [
    {
     "name": "stdout",
     "output_type": "stream",
     "text": [
      "<class 'pyspark.rdd.RDD'>\n",
      "823741\n",
      "3\n"
     ]
    }
   ],
   "source": [
    "#SEt Operations -->UNION,INTERSECTION, SUBTRACT, CARTESIAN\n",
    "sc.setLogLevel(\"INFO\")\n",
    "calldata = sc.textFile(\"/home/ubuntu/Datasets/calllogsdata\")\n",
    "print(type(calldata))\n",
    "print(calldata.count())\n",
    "print(calldata.getNumPartitions())\n",
    "# for i in calldata.take(100):  #take returns top 10 records of RDD, DF\n",
    "#     print(i)"
   ]
  }
 ],
 "metadata": {
  "kernelspec": {
   "display_name": "Python 2",
   "language": "python",
   "name": "python2"
  },
  "language_info": {
   "codemirror_mode": {
    "name": "ipython",
    "version": 2
   },
   "file_extension": ".py",
   "mimetype": "text/x-python",
   "name": "python",
   "nbconvert_exporter": "python",
   "pygments_lexer": "ipython2",
   "version": "2.7.15+"
  }
 },
 "nbformat": 4,
 "nbformat_minor": 2
}
