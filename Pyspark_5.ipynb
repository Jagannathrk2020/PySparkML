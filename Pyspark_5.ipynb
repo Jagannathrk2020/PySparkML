{
 "cells": [
  {
   "cell_type": "code",
   "execution_count": 2,
   "metadata": {},
   "outputs": [
    {
     "data": {
      "text/plain": [
       "<pyspark.sql.context.SQLContext at 0x7f8be6890d90>"
      ]
     },
     "execution_count": 2,
     "metadata": {},
     "output_type": "execute_result"
    }
   ],
   "source": [
    "from pyspark import SparkConf,SparkContext,SQLContext\n",
    "conf = SparkConf()\n",
    "conf.set(\"spark.master\",\"local[3]\")\n",
    "conf.set(\"spark.app.name\",\"sparkapp\")\n",
    "sc = SparkContext(conf=conf)\n",
    "sc\n",
    "\n",
    "sqlc = SQLContext(sc)\n",
    "sqlc"
   ]
  },
  {
   "cell_type": "code",
   "execution_count": 51,
   "metadata": {},
   "outputs": [
    {
     "name": "stdout",
     "output_type": "stream",
     "text": [
      "+---+------+-------------------+\n",
      "| id|salary|               date|\n",
      "+---+------+-------------------+\n",
      "|101| 20000|2018-03-23 12:34:23|\n",
      "|102| 30000|2017-12-23 20:23:34|\n",
      "+---+------+-------------------+\n",
      "\n",
      "root\n",
      " |-- id: long (nullable = true)\n",
      " |-- date: timestamp (nullable = true)\n",
      " |-- newid: long (nullable = true)\n",
      "\n"
     ]
    },
    {
     "data": {
      "text/plain": [
       "StructType(List(StructField(id,LongType,true),StructField(date,TimestampType,true),StructField(newid,LongType,true)))"
      ]
     },
     "execution_count": 51,
     "metadata": {},
     "output_type": "execute_result"
    }
   ],
   "source": [
    "from datetime import *\n",
    "from pyspark.sql import Row\n",
    "from pyspark.sql.functions import *\n",
    "\n",
    "r1 =Row(id=101,date=datetime(2018,3,23,12,34,23),salary=20000)\n",
    "r2 = Row(salary=30000,date=datetime(2017,12,23,20,23,34),id=102)\n",
    "df1 = sqlc.createDataFrame([r1,r2])\n",
    "# df1.show()\n",
    "df2 = df1.select(\"id\",from_utc_timestamp(\"date\",\"IST\").alias(\"ISTTime\"),\"date\")\n",
    "# df2.select(\"id\",\"ISTTime\",\"date\",datediff(\"ISTTime\",\"date\")).show()\n",
    "# df2.select(\"id\",date_format(\"date\",\"d-MM-y ss:mm:hh\"),\"date\",month(\"date\").alias(\"month\"),year(\"date\").alias(\"year\")).show()\n",
    "\n",
    "# df2.select(\"id\",to_utc_timestamp(\"ISTTime\",\"IST\").alias(\"UTCTime\"),\"ISTTime\").show()\n",
    "# df2.select(\"date\",date_add(\"date\",10).alias(\"newdate\"),date_sub(\"date\",2).alias(\"newdate2\")).show()\n",
    "\n",
    "d = date(2019,6,24)\n",
    "# print(d)\n",
    "# print(d.day)\n",
    "# print(d.isocalendar())\n",
    "from calendar import mdays,calendar\n",
    "# print(calendar(2019,3))\n",
    "# print(mdays)\n",
    "# df1.show()\n",
    "# df1.withColumn(\"hike\",col(\"salary\")*(0.15)).show()\n",
    "\n",
    "from pyspark.sql.types import FloatType \n",
    "#Creation of A UDF (input integer, returns float)\n",
    "def hike(salary):\n",
    "    if (salary>=20000 and salary<30000):\n",
    "        shike = salary*(0.15)\n",
    "    if(salary>=30000):\n",
    "        shike = salary*(0.1)\n",
    "    return shike    \n",
    "\n",
    "f = udf(lambda x:hike(x),FloatType())  #registering function hike with spark sql\n",
    "f\n",
    "df2 = df1.withColumn(\"shike\",f(\"salary\"))\n",
    "# df2.show()\n",
    "\n",
    "\n",
    "'''\n",
    "In python , int,float,double, etc..\n",
    "In spark, IntegerType,FloatType,DoubleType\n",
    "'''\n",
    "# df2.printSchema() #schema in the prog. language that we use\n",
    "# df2.schema  #Spark SQL  schema\n",
    "# df1.show()\n",
    "# df1.select(\"id\",\"salary\",f(\"salary\").alias(\"hike\")).show()\n",
    "# df1.withColumn(\"id1\",lit(100)).show()\n",
    "# df1.select(\"id\",\"salary\",\"date\").show()\n",
    "df1.select(col(\"id\"),col(\"salary\"),col(\"date\")).show()\n",
    "# df1.withColumn(\"id1\",col(\"id\")+100).show()\n",
    "\n",
    "# df1.select(col(\"id\"),col(\"salary\"),col(\"date\")).show()\n",
    "\n",
    "df6 = df1.select(\"id\",\"date\",(col(\"id\")+100).alias(\"newid\"))\n",
    "\n",
    "df6.printSchema()\n",
    "df6.schema\n"
   ]
  }
 ],
 "metadata": {
  "kernelspec": {
   "display_name": "Python 3",
   "language": "python",
   "name": "python3"
  },
  "language_info": {
   "codemirror_mode": {
    "name": "ipython",
    "version": 2
   },
   "file_extension": ".py",
   "mimetype": "text/x-python",
   "name": "python",
   "nbconvert_exporter": "python",
   "pygments_lexer": "ipython2",
   "version": "2.7.15+"
  }
 },
 "nbformat": 4,
 "nbformat_minor": 2
}
