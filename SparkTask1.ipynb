{
 "cells": [
  {
   "cell_type": "code",
   "execution_count": 9,
   "metadata": {},
   "outputs": [
    {
     "data": {
      "text/plain": [
       "182"
      ]
     },
     "execution_count": 9,
     "metadata": {},
     "output_type": "execute_result"
    }
   ],
   "source": [
    "import os\n",
    "import sys\n",
    "#import org.apache.spark.sql.functions._\n",
    "#import org.apache.spark.sql.hive.HiveContext\n",
    "from pyspark import  SparkConf, SparkContext\n",
    "#import org.apache.spark._\n",
    "#import org.apache.spark.sql._\n",
    "\n",
    "os.chdir(\"/home/ubuntu/Datasets/\")\n",
    "#conf = SparkConf().setMaster(\"local\").setAppName(\"My App\")\n",
    "#val sc = new SparkContext(conf)\n",
    "#val sqlContext = new org.apache.spark.sql.SQLContext(sc)\n",
    "#val df = sqlContext.read.json(\"companies.json\")\n",
    "sc = SparkContext(\"local\", \"first app\")\n",
    "webdata=sc.textFile(\"/home/ubuntu/Datasets/weblogdata\")\n",
    "webdata.getNumPartitions()"
   ]
  },
  {
   "cell_type": "code",
   "execution_count": 12,
   "metadata": {},
   "outputs": [
    {
     "data": {
      "text/plain": [
       "1079891"
      ]
     },
     "execution_count": 12,
     "metadata": {},
     "output_type": "execute_result"
    }
   ],
   "source": [
    "webdata.count()"
   ]
  },
  {
   "cell_type": "code",
   "execution_count": 13,
   "metadata": {},
   "outputs": [
    {
     "data": {
      "text/plain": [
       "[u'157.118.251.62 - 2318 [10/Jan/2014:23:59:43 +0100] \"GET /KBDOC-00028.html HTTP/1.0\" 200 15055 \"http://www.loudacre.com\"  \"Loudacre Mobile Browser iFruit 1\"',\n",
       " u'157.118.251.62 - 2318 [10/Jan/2014:23:59:43 +0100] \"GET /theme.css HTTP/1.0\" 200 15780 \"http://www.loudacre.com\"  \"Loudacre Mobile Browser iFruit 1\"',\n",
       " u'129.62.15.191 - 55543 [10/Jan/2014:23:59:28 +0100] \"GET /KBDOC-00103.html HTTP/1.0\" 200 5790 \"http://www.loudacre.com\"  \"Loudacre Mobile Browser Ronin S2\"',\n",
       " u'129.62.15.191 - 55543 [10/Jan/2014:23:59:28 +0100] \"GET /theme.css HTTP/1.0\" 200 16112 \"http://www.loudacre.com\"  \"Loudacre Mobile Browser Ronin S2\"',\n",
       " u'244.149.80.248 - 35908 [10/Jan/2014:23:59:13 +0100] \"GET /KBDOC-00108.html HTTP/1.0\" 200 1677 \"http://www.loudacre.com\"  \"Loudacre Mobile Browser Ronin Novelty Note 2\"',\n",
       " u'244.149.80.248 - 35908 [10/Jan/2014:23:59:13 +0100] \"GET /theme.css HTTP/1.0\" 200 682 \"http://www.loudacre.com\"  \"Loudacre Mobile Browser Ronin Novelty Note 2\"',\n",
       " u'118.179.233.41 - 45085 [10/Jan/2014:23:58:27 +0100] \"GET /meetoo_1.0_sales.html HTTP/1.0\" 200 7736 \"http://www.loudacre.com\"  \"Loudacre Mobile Browser Sorrento F41L\"',\n",
       " u'118.179.233.41 - 45085 [10/Jan/2014:23:58:27 +0100] \"GET /theme.css HTTP/1.0\" 200 592 \"http://www.loudacre.com\"  \"Loudacre Mobile Browser Sorrento F41L\"',\n",
       " u'118.179.233.41 - 45085 [10/Jan/2014:23:58:27 +0100] \"GET /code.js HTTP/1.0\" 200 4194 \"http://www.loudacre.com\"  \"Loudacre Mobile Browser Sorrento F41L\"',\n",
       " u'118.179.233.41 - 45085 [10/Jan/2014:23:58:27 +0100] \"GET /meetoo_1.0.jpg HTTP/1.0\" 200 2811 \"http://www.loudacre.com\"  \"Loudacre Mobile Browser Sorrento F41L\"']"
      ]
     },
     "execution_count": 13,
     "metadata": {},
     "output_type": "execute_result"
    }
   ],
   "source": [
    "webdata.take(10)"
   ]
  },
  {
   "cell_type": "code",
   "execution_count": 26,
   "metadata": {},
   "outputs": [
    {
     "data": {
      "text/plain": [
       "[u'157.118.251.62 - 2318 [10/Jan/2014:23:59:43 +0100] \"GET /KBDOC-00028.html HTTP/1.0\" 200 15055 \"http://www.loudacre.com\"  \"Loudacre Mobile Browser iFruit 1\"',\n",
       " u'157.118.251.62 - 2318 [10/Jan/2014:23:59:43 +0100] \"GET /theme.css HTTP/1.0\" 200 15780 \"http://www.loudacre.com\"  \"Loudacre Mobile Browser iFruit 1\"',\n",
       " u'129.62.15.191 - 55543 [10/Jan/2014:23:59:28 +0100] \"GET /KBDOC-00103.html HTTP/1.0\" 200 5790 \"http://www.loudacre.com\"  \"Loudacre Mobile Browser Ronin S2\"',\n",
       " u'129.62.15.191 - 55543 [10/Jan/2014:23:59:28 +0100] \"GET /theme.css HTTP/1.0\" 200 16112 \"http://www.loudacre.com\"  \"Loudacre Mobile Browser Ronin S2\"',\n",
       " u'244.149.80.248 - 35908 [10/Jan/2014:23:59:13 +0100] \"GET /KBDOC-00108.html HTTP/1.0\" 200 1677 \"http://www.loudacre.com\"  \"Loudacre Mobile Browser Ronin Novelty Note 2\"',\n",
       " u'244.149.80.248 - 35908 [10/Jan/2014:23:59:13 +0100] \"GET /theme.css HTTP/1.0\" 200 682 \"http://www.loudacre.com\"  \"Loudacre Mobile Browser Ronin Novelty Note 2\"',\n",
       " u'118.179.233.41 - 45085 [10/Jan/2014:23:58:27 +0100] \"GET /meetoo_1.0_sales.html HTTP/1.0\" 200 7736 \"http://www.loudacre.com\"  \"Loudacre Mobile Browser Sorrento F41L\"',\n",
       " u'118.179.233.41 - 45085 [10/Jan/2014:23:58:27 +0100] \"GET /theme.css HTTP/1.0\" 200 592 \"http://www.loudacre.com\"  \"Loudacre Mobile Browser Sorrento F41L\"',\n",
       " u'118.179.233.41 - 45085 [10/Jan/2014:23:58:27 +0100] \"GET /code.js HTTP/1.0\" 200 4194 \"http://www.loudacre.com\"  \"Loudacre Mobile Browser Sorrento F41L\"',\n",
       " u'118.179.233.41 - 45085 [10/Jan/2014:23:58:27 +0100] \"GET /meetoo_1.0.jpg HTTP/1.0\" 200 2811 \"http://www.loudacre.com\"  \"Loudacre Mobile Browser Sorrento F41L\"']"
      ]
     },
     "execution_count": 26,
     "metadata": {},
     "output_type": "execute_result"
    }
   ],
   "source": [
    "webdata.sortBY"
   ]
  },
  {
   "cell_type": "code",
   "execution_count": 24,
   "metadata": {},
   "outputs": [
    {
     "data": {
      "text/plain": [
       "[]"
      ]
     },
     "execution_count": 24,
     "metadata": {},
     "output_type": "execute_result"
    }
   ],
   "source": []
  },
  {
   "cell_type": "code",
   "execution_count": null,
   "metadata": {},
   "outputs": [],
   "source": []
  },
  {
   "cell_type": "code",
   "execution_count": null,
   "metadata": {},
   "outputs": [],
   "source": []
  }
 ],
 "metadata": {
  "kernelspec": {
   "display_name": "Python 2",
   "language": "python",
   "name": "python2"
  },
  "language_info": {
   "codemirror_mode": {
    "name": "ipython",
    "version": 2
   },
   "file_extension": ".py",
   "mimetype": "text/x-python",
   "name": "python",
   "nbconvert_exporter": "python",
   "pygments_lexer": "ipython2",
   "version": "2.7.15+"
  }
 },
 "nbformat": 4,
 "nbformat_minor": 2
}
