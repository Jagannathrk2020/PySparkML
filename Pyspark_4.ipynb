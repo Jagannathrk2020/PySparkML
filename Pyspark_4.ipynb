{
 "cells": [
  {
   "cell_type": "code",
   "execution_count": 1,
   "metadata": {},
   "outputs": [
    {
     "data": {
      "text/html": [
       "\n",
       "        <div>\n",
       "            <p><b>SparkContext</b></p>\n",
       "\n",
       "            <p><a href=\"http://ip-172-31-26-204.us-east-2.compute.internal:4040\">Spark UI</a></p>\n",
       "\n",
       "            <dl>\n",
       "              <dt>Version</dt>\n",
       "                <dd><code>v2.3.2</code></dd>\n",
       "              <dt>Master</dt>\n",
       "                <dd><code>local[3]</code></dd>\n",
       "              <dt>AppName</dt>\n",
       "                <dd><code>sparkapp</code></dd>\n",
       "            </dl>\n",
       "        </div>\n",
       "        "
      ],
      "text/plain": [
       "<SparkContext master=local[3] appName=sparkapp>"
      ]
     },
     "execution_count": 1,
     "metadata": {},
     "output_type": "execute_result"
    }
   ],
   "source": [
    "from pyspark import SparkConf,SparkContext\n",
    "\n",
    "conf = SparkConf()\n",
    "conf.set(\"spark.master\",\"local[3]\")\n",
    "conf.set(\"spark.app.name\",\"sparkapp\")\n",
    "\n",
    "sc = SparkContext(conf=conf)\n",
    "sc"
   ]
  },
  {
   "cell_type": "code",
   "execution_count": 2,
   "metadata": {},
   "outputs": [
    {
     "data": {
      "text/plain": [
       "<pyspark.sql.context.SQLContext at 0x7f985863ba50>"
      ]
     },
     "execution_count": 2,
     "metadata": {},
     "output_type": "execute_result"
    }
   ],
   "source": [
    "from pyspark.sql import SQLContext\n",
    "sqlc = SQLContext(sc)\n",
    "sqlc"
   ]
  },
  {
   "cell_type": "code",
   "execution_count": 77,
   "metadata": {},
   "outputs": [
    {
     "name": "stdout",
     "output_type": "stream",
     "text": [
      "+------+-----+---+---+----------+-----------------+---------+---------+--------+-----+---------+--------+\n",
      "|    ID| Name|Age|Sex|     State|         Symptoms|Diagnosis|   Cancer|CancerSc|Stage|Treatment|Survival|\n",
      "+------+-----+---+---+----------+-----------------+---------+---------+--------+-----+---------+--------+\n",
      "|100001|David| 45|  M|   ALAMAMA|RED ITCHY PATCHES|   BIOPSY|MALIGNANT|    SKIN|    1|RESECTION|     YES|\n",
      "|100002| John| 56|  M|    ALASKA|      BLOOD COUGH| PET SCAN|MALIGNANT|THORACIC|    2|  SURGERY|     YES|\n",
      "|100003| Paul| 65|  M|   ARIZONA|RED ITCHY PATCHES|   BIOPSY|MALIGNANT|    SKIN|    3|RESECTION|      NO|\n",
      "|100004| Mark| 35|  M|  ARKANSAS|      BLOOD COUGH| PET SCAN|MALIGNANT|THORACIC|    3|  SURGERY|      NO|\n",
      "|100005|James| 44|  M|CALIFORNIA|RED ITCHY PATCHES|   BIOPSY|MALIGNANT|    SKIN|    2|RESECTION|     YES|\n",
      "+------+-----+---+---+----------+-----------------+---------+---------+--------+-----+---------+--------+\n",
      "only showing top 5 rows\n",
      "\n",
      "None\n",
      "+---+-------------------+-----+\n",
      "| Id|               date|score|\n",
      "+---+-------------------+-----+\n",
      "|  1|2019-12-12 23:34:45|  2.3|\n",
      "|  2|2018-01-03 00:00:00|  3.4|\n",
      "+---+-------------------+-----+\n",
      "\n",
      "root\n",
      " |-- Id: long (nullable = true)\n",
      " |-- date: timestamp (nullable = true)\n",
      " |-- score: double (nullable = true)\n",
      "\n",
      "+---+-------------------+-----+--------------------+\n",
      "| Id|               date|score|          today_date|\n",
      "+---+-------------------+-----+--------------------+\n",
      "|  1|2019-12-12 23:34:45|  2.3|2019-06-21 02:24:...|\n",
      "|  2|2018-01-03 00:00:00|  3.4|2019-06-21 02:24:...|\n",
      "+---+-------------------+-----+--------------------+\n",
      "\n"
     ]
    }
   ],
   "source": [
    "df1 = sqlc.read.format(\"csv\").option(\"header\",\"True\").option(\"inferschema\",\"True\").load(\"/home/ubuntu/Datasets/cancerdata.csv\")\n",
    "# print(df1.count())\n",
    "df2 = df1.na.drop()\n",
    "# print(df2.count())\n",
    "print(df2.show(5))\n",
    "df2.registerTempTable(\"table1\")\n",
    "\n",
    "from pyspark.sql.functions import col,column,lit,when,current_date,current_timestamp\n",
    "# df2.withColumn(\"newc\",lit(\"spark\")).show(10)\n",
    "# df2.withColumn(\"newc\",lit(\"spark\")).printSchema()\n",
    "# sqlc.sql(\"alter table table1 add column (newc int)\").sqlc.sql(\"update table1 set newc=1\").show(10)\n",
    "# df2.select(\"Sex\").distinct().show()\n",
    "df3 = df2.withColumn(\"Gender_Flag\",when(col(\"Sex\")==\"M\",1).otherwise(0))\n",
    "# df3.where(\"Gender_Flag=0 \").show()\n",
    "\n",
    "#IF age <=40 -->young, age>40 and <=50 -->middle , >50 -->old\n",
    "df4 = df2.withColumn(\"AgeGroup\",when(col(\"Age\")<=40,\"Young\").when((col(\"Age\")>40) & (col(\"Age\")<=50),\"Middle\").\\\n",
    "                     otherwise(\"Old\"))\n",
    "# df4.show(10)\n",
    "# df2.withColumn(\"NewAge\",col(\"Age\")-10).show(10)\n",
    "# df2.withColumn(\"salutation\", when(col(\"Sex\")==\"M\",\"Mr.\").otherwise(\"Ms.\")).show(10)\n",
    "#  withColumn(\"NameNew\",col(\"salutation\")+col(\"Name\")).show(10)\n",
    "# df2.withColumnRenamed(\"Sex\",\"Gender\").show(5)\n",
    "# df2.printSchema()\n",
    "# df2.withColumn(\"ID\",col(\"ID\").cast(\"float\")).printSchema()\n",
    "\n",
    "# df2.drop(\"Name\",\"Age\").show(5)\n",
    "\n",
    "from pyspark.sql import Row\n",
    "r1 = Row(ID=1,Name=\"sparkuser\",Age=40,Sex=\"M\",Symptoms=\"blank\",Diagnosis=\"blank\",Cacner=\"blank\",CancerSc=\"blank\",Stage=3,Treatment=\"blank\",Survival=\"No\",State=\"Alaska\")\n",
    "r2 = Row(ID=2,Name=\"sparkuser\",Age=40,Sex=\"M\",Symptoms=\"blank\",Diagnosis=\"blank\",Cacner=\"blank\",CancerSc=\"blank\",Stage=3,Treatment=\"blank\",Survival=\"No\",State=\"Alaska\")\n",
    "\n",
    "newdf = sqlc.createDataFrame([r1,r2])\n",
    "# newdf.printSchema()\n",
    "#f we want to add a new row/rows , create a new df with the rows and merge with the other dataframe\n",
    "# finaldf = df2.unionAll(newdf)\n",
    "# finaldf.count()\n",
    "# finaldf.where(\"Treatment='blank'\").show()\n",
    "\n",
    "from datetime import datetime,date\n",
    "\n",
    "r3 = Row(Id=1,date=datetime(2019,12,12,23,34,45),score=2.3)\n",
    "r4 = Row(score=3.4,Id=2,date=datetime(2018,1,3))\n",
    "\n",
    "df_1 = sqlc.createDataFrame([r3,r4])\n",
    "df_1.show()\n",
    "df_1.printSchema()\n",
    "df_1.withColumn(\"today_date\",current_timestamp()).show()\n",
    "         \n"
   ]
  }
 ],
 "metadata": {
  "kernelspec": {
   "display_name": "Python 3",
   "language": "python",
   "name": "python3"
  },
  "language_info": {
   "codemirror_mode": {
    "name": "ipython",
    "version": 2
   },
   "file_extension": ".py",
   "mimetype": "text/x-python",
   "name": "python",
   "nbconvert_exporter": "python",
   "pygments_lexer": "ipython2",
   "version": "2.7.15+"
  }
 },
 "nbformat": 4,
 "nbformat_minor": 2
}
