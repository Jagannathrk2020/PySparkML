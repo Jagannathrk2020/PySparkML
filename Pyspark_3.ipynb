{
 "cells": [
  {
   "cell_type": "code",
   "execution_count": 1,
   "metadata": {},
   "outputs": [
    {
     "data": {
      "text/html": [
       "\n",
       "        <div>\n",
       "            <p><b>SparkContext</b></p>\n",
       "\n",
       "            <p><a href=\"http://ip-172-31-26-204.us-east-2.compute.internal:4040\">Spark UI</a></p>\n",
       "\n",
       "            <dl>\n",
       "              <dt>Version</dt>\n",
       "                <dd><code>v2.3.2</code></dd>\n",
       "              <dt>Master</dt>\n",
       "                <dd><code>local[3]</code></dd>\n",
       "              <dt>AppName</dt>\n",
       "                <dd><code>sampleapp</code></dd>\n",
       "            </dl>\n",
       "        </div>\n",
       "        "
      ],
      "text/plain": [
       "<SparkContext master=local[3] appName=sampleapp>"
      ]
     },
     "execution_count": 1,
     "metadata": {},
     "output_type": "execute_result"
    }
   ],
   "source": [
    "from pyspark import SparkConf,SparkContext\n",
    "conf = SparkConf()\n",
    "conf.set(\"spark.master\",\"local[3]\")\n",
    "conf.set(\"spark.app.name\",\"sampleapp\")\n",
    "sc = SparkContext(conf=conf)"
   ]
  },
  {
   "cell_type": "markdown",
   "metadata": {},
   "source": [
    "movies1 = sc.textFile(\"/home/ubuntu/ml-1m/movies.dat\")\n",
    "movies2 = movies1.map(lambda x:x.split(\"::\"))\n",
    "print(movies2.take(5))"
   ]
  },
  {
   "cell_type": "code",
   "execution_count": 7,
   "metadata": {},
   "outputs": [
    {
     "name": "stdout",
     "output_type": "stream",
     "text": [
      "1::Toy Story (1995)::Animation|Children's|Comedy\n",
      "2::Jumanji (1995)::Adventure|Children's|Fantasy\n",
      "3::Grumpier Old Men (1995)::Comedy|Romance\n",
      "4::Waiting to Exhale (1995)::Comedy|Drama\n",
      "5::Father of the Bride Part II (1995)::Comedy\n",
      "-----------\n",
      "[u'1', u'Toy Story (1995)', u\"Animation|Children's|Comedy\"]\n",
      "[u'2', u'Jumanji (1995)', u\"Adventure|Children's|Fantasy\"]\n",
      "[u'3', u'Grumpier Old Men (1995)', u'Comedy|Romance']\n",
      "[u'4', u'Waiting to Exhale (1995)', u'Comedy|Drama']\n",
      "[u'5', u'Father of the Bride Part II (1995)', u'Comedy']\n",
      "----------------\n",
      "(1, u'Toy Story (1995)', u\"Animation|Children's|Comedy\")\n",
      "(2, u'Jumanji (1995)', u\"Adventure|Children's|Fantasy\")\n",
      "(3, u'Grumpier Old Men (1995)', u'Comedy|Romance')\n",
      "(4, u'Waiting to Exhale (1995)', u'Comedy|Drama')\n",
      "(5, u'Father of the Bride Part II (1995)', u'Comedy')\n",
      "------------\n",
      "+-------+--------------------+--------------------+\n",
      "|movieId|               Title|              Genres|\n",
      "+-------+--------------------+--------------------+\n",
      "|      1|    Toy Story (1995)|Animation|Childre...|\n",
      "|      2|      Jumanji (1995)|Adventure|Childre...|\n",
      "|      3|Grumpier Old Men ...|      Comedy|Romance|\n",
      "|      4|Waiting to Exhale...|        Comedy|Drama|\n",
      "|      5|Father of the Bri...|              Comedy|\n",
      "|      6|         Heat (1995)|Action|Crime|Thri...|\n",
      "|      7|      Sabrina (1995)|      Comedy|Romance|\n",
      "|      8| Tom and Huck (1995)|Adventure|Children's|\n",
      "|      9| Sudden Death (1995)|              Action|\n",
      "|     10|    GoldenEye (1995)|Action|Adventure|...|\n",
      "+-------+--------------------+--------------------+\n",
      "only showing top 10 rows\n",
      "\n",
      "None\n"
     ]
    }
   ],
   "source": [
    "from pyspark.sql import SQLContext\n",
    "\n",
    "sqlc = SQLContext(sc)\n",
    "\n",
    "movies1 = sc.textFile(\"/home/ubuntu/ml-1m/movies.dat\")\n",
    "for i in movies1.take(5):\n",
    "    print(i)\n",
    "movies2 = movies1.map(lambda x:x.split(\"::\")) \n",
    "print(\"-----------\")\n",
    "for i in movies2.take(5):\n",
    "    print(i)\n",
    "movies3 = movies2. map(lambda x:(int(x[0]),x[1],x[2]))\n",
    "print(\"----------------\")\n",
    "for i in movies3.take(5):\n",
    "    print(i)\n",
    "\n",
    "#create a dataframe for movies3 rdd\n",
    "\n",
    "moviesdf1 = movies3.toDF([\"movieId\",\"Title\",\"Genres\"])\n",
    "print(\"------------\")\n",
    "print(moviesdf1.show(10))"
   ]
  },
  {
   "cell_type": "code",
   "execution_count": 12,
   "metadata": {},
   "outputs": [
    {
     "name": "stdout",
     "output_type": "stream",
     "text": [
      "+------+--------+------+---------+\n",
      "|userId|moviesId|rating|timestamp|\n",
      "+------+--------+------+---------+\n",
      "|     1|    1193|     5|978300760|\n",
      "|     1|     661|     3|978302109|\n",
      "|     1|     914|     3|978301968|\n",
      "|     1|    3408|     4|978300275|\n",
      "|     1|    2355|     5|978824291|\n",
      "|     1|    1197|     3|978302268|\n",
      "|     1|    1287|     5|978302039|\n",
      "|     1|    2804|     5|978300719|\n",
      "|     1|     594|     4|978302268|\n",
      "|     1|     919|     4|978301368|\n",
      "+------+--------+------+---------+\n",
      "only showing top 10 rows\n",
      "\n",
      "None\n"
     ]
    }
   ],
   "source": [
    "ratings1 = sc.textFile(\"/home/ubuntu/ml-1m/ratings.dat\") \n",
    "ratings2 = ratings1.map(lambda x:x.split(\"::\")) \n",
    "ratings3 = ratings2.map(lambda x:(int(x[0]),int(x[1]),int(x[2]),x[3]))\n",
    "ratingsdf1 = ratings3.toDF([\"userId\",\"moviesId\",\"rating\",\"timestamp\"])\n",
    "print(ratingsdf1.show(10))"
   ]
  },
  {
   "cell_type": "markdown",
   "metadata": {},
   "source": [
    "ratings1 = sc.textFile(\"/home/ubuntu/ml-1m/ratings.dat\")\n",
    "ratings2 = ratings1.map(lambda x:x.split(\"::\"))\n",
    "ratings3 = ratings2.map(lambda x:(int(x[0]),int(x[1]),int(x[2]),x[3]))\n",
    "ratingsdf1 = ratings3.toDF([\"userId\",\"moviesId\",\"rating\",\"timestamp\"])\n",
    "print(ratingsdf1.show(10))\n",
    "\n",
    "# Top ten most viewed movies with their movies Name (Ascending or Descending order) ",
    " \n"
   ]
  },
  {
   "cell_type": "code",
   "execution_count": 20,
   "metadata": {},
   "outputs": [
    {
     "name": "stdout",
     "output_type": "stream",
     "text": [
      "+-------+--------------+------+------+--------+------+----------+\n",
      "|movieId|         Title|Genres|userId|moviesId|rating| timestamp|\n",
      "+-------+--------------+------+------+--------+------+----------+\n",
      "|     26|Othello (1995)| Drama|    18|      26|     4| 978157335|\n",
      "|     26|Othello (1995)| Drama|    69|      26|     4| 977882050|\n",
      "|     26|Othello (1995)| Drama|   229|      26|     4|1039503573|\n",
      "|     26|Othello (1995)| Drama|   342|      26|     4| 976338677|\n",
      "|     26|Othello (1995)| Drama|   524|      26|     3| 976169012|\n",
      "|     26|Othello (1995)| Drama|   655|      26|     3| 975699243|\n",
      "|     26|Othello (1995)| Drama|   748|      26|     5| 975463153|\n",
      "|     26|Othello (1995)| Drama|   881|      26|     3|1013536125|\n",
      "|     26|Othello (1995)| Drama|   890|      26|     3| 976504835|\n",
      "|     26|Othello (1995)| Drama|   918|      26|     4| 978241611|\n",
      "+-------+--------------+------+------+--------+------+----------+\n",
      "only showing top 10 rows\n",
      "\n",
      "None\n"
     ]
    },
    {
     "data": {
      "text/plain": [
       "DataFrame[movieId: bigint, Title: string, Genres: string, userId: bigint, moviesId: bigint, rating: bigint, timestamp: string]"
      ]
     },
     "execution_count": 20,
     "metadata": {},
     "output_type": "execute_result"
    }
   ],
   "source": [
    "from pyspark.sql.functions import col,count\n",
    "\n",
    "mr1 = moviesdf1.join(ratingsdf1,col(\"movieId\")==col(\"moviesId\"),\"inner\")\n",
    "print(mr1.show(10))\n",
    "mr1.cache()  #preserves the dat of mr1 in memory"
   ]
  },
  {
   "cell_type": "code",
   "execution_count": 30,
   "metadata": {},
   "outputs": [
    {
     "name": "stdout",
     "output_type": "stream",
     "text": [
      "+--------------------+-----+\n",
      "|               Title|Views|\n",
      "+--------------------+-----+\n",
      "|American Beauty (...| 3428|\n",
      "|Star Wars: Episod...| 2991|\n",
      "|Star Wars: Episod...| 2990|\n",
      "|Star Wars: Episod...| 2883|\n",
      "|Jurassic Park (1993)| 2672|\n",
      "|Saving Private Ry...| 2653|\n",
      "|Terminator 2: Jud...| 2649|\n",
      "|  Matrix, The (1999)| 2590|\n",
      "|Back to the Futur...| 2583|\n",
      "|Silence of the La...| 2578|\n",
      "+--------------------+-----+\n",
      "\n",
      "None\n"
     ]
    }
   ],
   "source": [
    "from pyspark.sql.functions import *\n",
    "mr2 = mr1.select(col(\"Title\"),col(\"userId\")).groupBy(col(\"Title\")).agg(count(col(\"userId\")).alias(\"Views\"))\n",
    "mr3 = mr2.orderBy(desc(\"Views\")).limit(10)\n",
    "print(mr3.show(20))"
   ]
  },
  {
   "cell_type": "code",
   "execution_count": 31,
   "metadata": {},
   "outputs": [
    {
     "name": "stdout",
     "output_type": "stream",
     "text": [
      "+--------------------+-----+\n",
      "|               Title|views|\n",
      "+--------------------+-----+\n",
      "|American Beauty (...| 3428|\n",
      "|Star Wars: Episod...| 2991|\n",
      "|Star Wars: Episod...| 2990|\n",
      "|Star Wars: Episod...| 2883|\n",
      "|Jurassic Park (1993)| 2672|\n",
      "|Saving Private Ry...| 2653|\n",
      "|Terminator 2: Jud...| 2649|\n",
      "|  Matrix, The (1999)| 2590|\n",
      "|Back to the Futur...| 2583|\n",
      "|Silence of the La...| 2578|\n",
      "+--------------------+-----+\n",
      "\n",
      "None\n"
     ]
    }
   ],
   "source": [
    "mr1.registerTempTable(\"table1\")\n",
    "res = sqlc.sql(\"select Title,count(userId) as views from table1 group by Title order by views desc limit 10 \")\n",
    "print(res.show())"
   ]
  },
  {
   "cell_type": "code",
   "execution_count": 37,
   "metadata": {},
   "outputs": [
    {
     "name": "stdout",
     "output_type": "stream",
     "text": [
      "3706\n",
      "20\n",
      "+--------------------+-----+------------------+\n",
      "|               Title|views|           ratings|\n",
      "+--------------------+-----+------------------+\n",
      "|      Sanjuro (1962)|   69| 4.608695652173913|\n",
      "|Seven Samurai (Th...|  628| 4.560509554140127|\n",
      "|Shawshank Redempt...| 2227| 4.554557700942973|\n",
      "|Godfather, The (1...| 2223| 4.524966261808367|\n",
      "|Close Shave, A (1...|  657|  4.52054794520548|\n",
      "|Usual Suspects, T...| 1783| 4.517106001121705|\n",
      "|Schindler's List ...| 2304| 4.510416666666667|\n",
      "|Wrong Trousers, T...|  882| 4.507936507936508|\n",
      "|Sunset Blvd. (a.k...|  470| 4.491489361702127|\n",
      "|Raiders of the Lo...| 2514| 4.477724741447892|\n",
      "|  Rear Window (1954)| 1050| 4.476190476190476|\n",
      "|Paths of Glory (1...|  230| 4.473913043478261|\n",
      "|Star Wars: Episod...| 2991| 4.453694416583082|\n",
      "|Third Man, The (1...|  480| 4.452083333333333|\n",
      "|Dr. Strangelove o...| 1367|4.4498902706656915|\n",
      "|Wallace & Gromit:...|  438| 4.426940639269406|\n",
      "|To Kill a Mocking...|  928| 4.425646551724138|\n",
      "|Double Indemnity ...|  551| 4.415607985480944|\n",
      "|   Casablanca (1942)| 1669| 4.412822049131217|\n",
      "|World of Apu, The...|   56| 4.410714285714286|\n",
      "+--------------------+-----+------------------+\n",
      "\n",
      "None\n"
     ]
    }
   ],
   "source": [
    "# Top twenty rated movies (Condition: The movie should be rated/viewed by at least 40 users\n",
    "res2 = mr1.select(\"Title\",\"rating\",\"userId\").groupBy(col(\"Title\")).agg(count(col(\"userId\")).alias(\"views\"),avg(col(\"rating\")).alias(\"ratings\"))\n",
    "print(res2.count())\n",
    "res3 = res2.where('views>=40').orderBy(desc(\"ratings\")).limit(20)\n",
    "print(res3.count())\n",
    "print(res3.show())\n"
   ]
  },
  {
   "cell_type": "code",
   "execution_count": 42,
   "metadata": {},
   "outputs": [
    {
     "name": "stdout",
     "output_type": "stream",
     "text": [
      "+--------------------+-----+------------------+\n",
      "|               Title|views|           ratings|\n",
      "+--------------------+-----+------------------+\n",
      "|      Sanjuro (1962)|   69| 4.608695652173913|\n",
      "|Seven Samurai (Th...|  628| 4.560509554140127|\n",
      "|Shawshank Redempt...| 2227| 4.554557700942973|\n",
      "|Godfather, The (1...| 2223| 4.524966261808367|\n",
      "|Close Shave, A (1...|  657|  4.52054794520548|\n",
      "|Usual Suspects, T...| 1783| 4.517106001121705|\n",
      "|Schindler's List ...| 2304| 4.510416666666667|\n",
      "|Wrong Trousers, T...|  882| 4.507936507936508|\n",
      "|Sunset Blvd. (a.k...|  470| 4.491489361702127|\n",
      "|Raiders of the Lo...| 2514| 4.477724741447892|\n",
      "|  Rear Window (1954)| 1050| 4.476190476190476|\n",
      "|Paths of Glory (1...|  230| 4.473913043478261|\n",
      "|Star Wars: Episod...| 2991| 4.453694416583082|\n",
      "|Third Man, The (1...|  480| 4.452083333333333|\n",
      "|Dr. Strangelove o...| 1367|4.4498902706656915|\n",
      "|Wallace & Gromit:...|  438| 4.426940639269406|\n",
      "|To Kill a Mocking...|  928| 4.425646551724138|\n",
      "|Double Indemnity ...|  551| 4.415607985480944|\n",
      "|   Casablanca (1942)| 1669| 4.412822049131217|\n",
      "|World of Apu, The...|   56| 4.410714285714286|\n",
      "+--------------------+-----+------------------+\n",
      "\n",
      "None\n"
     ]
    }
   ],
   "source": [
    "res4 = sqlc.sql(\"select Title,count(userId) as views ,avg(rating) as ratings from table1 group by Title order by ratings desc\").where('views>=40').limit(20)\n",
    "print(res4.show())"
   ]
  },
  {
   "cell_type": "code",
   "execution_count": 43,
   "metadata": {},
   "outputs": [],
   "source": [
    "res4.write.format(\"csv\").option(\"header\",\"True\").save(\"/home/ubuntu/sol2.csv\")\n",
    "res.write.format(\"csv\").option(\"header\",\"True\").save(\"/home/ubuntu/sol1.csv\")"
   ]
  },
  {
   "cell_type": "markdown",
   "metadata": {},
   "source": [
    "movies1 = sc.textFile(\"/home/ubuntu/ml-1m/movies.dat\")\n",
    "for i in movies1.take(5):\n",
    "    print(i)\n",
    "movies2 = movies1.map(lambda x:x.split(\"::\")) \n",
    "print(\"-----------\")\n",
    "for i in movies2.take(5):\n",
    "    print(i)\n",
    "movies3 = movies2. map(lambda x:(int(x[0]),x[1],x[2]))\n",
    "for i in movies3.take(5):\n"
   ]
  }
 ],
 "metadata": {
  "kernelspec": {
   "display_name": "Python 2",
   "language": "python",
   "name": "python2"
  },
  "language_info": {
   "codemirror_mode": {
    "name": "ipython",
    "version": 2
   },
   "file_extension": ".py",
   "mimetype": "text/x-python",
   "name": "python",
   "nbconvert_exporter": "python",
   "pygments_lexer": "ipython2",
   "version": "2.7.15+"
  }
 },
 "nbformat": 4,
 "nbformat_minor": 2
}
