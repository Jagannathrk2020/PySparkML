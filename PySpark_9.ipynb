{
 "cells": [
  {
   "cell_type": "code",
   "execution_count": 1,
   "metadata": {},
   "outputs": [
    {
     "data": {
      "text/html": [
       "\n",
       "        <div>\n",
       "            <p><b>SparkContext</b></p>\n",
       "\n",
       "            <p><a href=\"http://ip-172-31-26-204.us-east-2.compute.internal:4040\">Spark UI</a></p>\n",
       "\n",
       "            <dl>\n",
       "              <dt>Version</dt>\n",
       "                <dd><code>v2.3.2</code></dd>\n",
       "              <dt>Master</dt>\n",
       "                <dd><code>local[2]</code></dd>\n",
       "              <dt>AppName</dt>\n",
       "                <dd><code>sparkapp</code></dd>\n",
       "            </dl>\n",
       "        </div>\n",
       "        "
      ],
      "text/plain": [
       "<SparkContext master=local[2] appName=sparkapp>"
      ]
     },
     "execution_count": 1,
     "metadata": {},
     "output_type": "execute_result"
    }
   ],
   "source": [
    "from pyspark import SparkConf,SparkContext\n",
    "conf = SparkConf()\n",
    "conf.set(\"spark.master\",\"local[2]\")\n",
    "conf.set(\"spark.app.name\",\"sparkapp\")\n",
    "\n",
    "sc = SparkContext(conf=conf)\n",
    "sc"
   ]
  },
  {
   "cell_type": "code",
   "execution_count": 3,
   "metadata": {},
   "outputs": [],
   "source": [
    "f1 = lambda x:x+x   #Lambda function\n",
    "\n",
    "def f2(x):\n",
    "    return x+x"
   ]
  },
  {
   "cell_type": "code",
   "execution_count": 5,
   "metadata": {},
   "outputs": [
    {
     "data": {
      "text/plain": [
       "20"
      ]
     },
     "execution_count": 5,
     "metadata": {},
     "output_type": "execute_result"
    }
   ],
   "source": [
    "f1(10)"
   ]
  },
  {
   "cell_type": "code",
   "execution_count": 6,
   "metadata": {},
   "outputs": [
    {
     "name": "stdout",
     "output_type": "stream",
     "text": [
      "[10, 20, 30, 40, 50]\n",
      "[1, 2, 3, 4, 5, 6, 7, 8, 9, 10, 11, 12, 13, 14, 15, 16, 17, 18, 19, 20, 21, 22, 23, 24, 25, 26, 27, 28, 29, 30, 31, 32, 33, 34, 35, 36, 37, 38, 39, 40, 41, 42, 43, 44, 45, 46, 47, 48, 49, 50, 51, 52, 53, 54, 55, 56, 57, 58, 59, 60, 61, 62, 63, 64, 65, 66, 67, 68, 69, 70, 71, 72, 73, 74, 75, 76, 77, 78, 79, 80, 81, 82, 83, 84, 85, 86, 87, 88, 89, 90, 91, 92, 93, 94, 95, 96, 97, 98, 99]\n"
     ]
    }
   ],
   "source": [
    "l1 = [10,20,30,40,50]\n",
    "r1 = range(1,100)\n",
    "print(l1)\n",
    "print(r1)"
   ]
  },
  {
   "cell_type": "code",
   "execution_count": 7,
   "metadata": {},
   "outputs": [],
   "source": [
    "def f3(coll):\n",
    "    for i in coll:\n",
    "        print(i+100)  #very is implemented by \"for\""
   ]
  },
  {
   "cell_type": "code",
   "execution_count": 23,
   "metadata": {},
   "outputs": [
    {
     "name": "stdout",
     "output_type": "stream",
     "text": [
      "[-5, -5, -5, -5, -5]\n",
      "[(1, 4), (2, 5), (3, 6), (4, 7), (5, 8)]\n"
     ]
    },
    {
     "data": {
      "text/plain": [
       "[-3, -3, -3, -3, -3]"
      ]
     },
     "execution_count": 23,
     "metadata": {},
     "output_type": "execute_result"
    }
   ],
   "source": [
    "# map(lambda x:x+100,r1)  #every is implemnented by \"map\"  \n",
    "print(map(lambda x,y:x-y,[1,2,3,4,5],[6,7,8,9,10]))\n",
    "l2 = [1,2,3,4,5]\n",
    "l3 = [4,5,6,7,8]\n",
    "\n",
    "res = zip(l2,l3)\n",
    "print(res)\n",
    "map(lambda z:z[0]-z[1],res)"
   ]
  },
  {
   "cell_type": "code",
   "execution_count": 26,
   "metadata": {},
   "outputs": [
    {
     "name": "stdout",
     "output_type": "stream",
     "text": [
      "3\n",
      "34\n"
     ]
    }
   ],
   "source": [
    "l4 = [3,4,5,6,7]\n",
    "print(l4[0])\n",
    "t = (23,34,45)\n",
    "print(t[1])"
   ]
  },
  {
   "cell_type": "code",
   "execution_count": 30,
   "metadata": {},
   "outputs": [
    {
     "name": "stdout",
     "output_type": "stream",
     "text": [
      "[5, 15, 25, 35, 45]\n"
     ]
    }
   ],
   "source": [
    "print(map(lambda x,y,a:x-y+a,[1,2,3,4,5],[6,7,8,9,10],[10,20,30,40,50]))"
   ]
  },
  {
   "cell_type": "code",
   "execution_count": 43,
   "metadata": {},
   "outputs": [],
   "source": [
    "# city=\"Hyderabad\"\n",
    "# print(city)\n",
    "# print(len(city))\n",
    "# print(city[0])\n",
    "# print(city[3:5])\n",
    "# print(city[4:])\n",
    "# print(city[-1:])  \n",
    "# print(city[:-1])\n",
    "# #city[8]"
   ]
  },
  {
   "cell_type": "code",
   "execution_count": 47,
   "metadata": {},
   "outputs": [
    {
     "name": "stdout",
     "output_type": "stream",
     "text": [
      "['Spark', 'is', 'a', 'programming', 'framework']\n",
      "<type 'list'>\n"
     ]
    }
   ],
   "source": [
    "s = \"Spark is a programming framework\"\n",
    "res1 = s.split(\" \")\n",
    "print(res1)\n",
    "print(type(res1))"
   ]
  },
  {
   "cell_type": "code",
   "execution_count": 49,
   "metadata": {},
   "outputs": [
    {
     "data": {
      "text/plain": [
       "[['Spark', 'is', 'a', 'programming', 'framework'],\n",
       " ['hadoop', 'is', 'also', 'a', 'processing', 'fraemwork']]"
      ]
     },
     "execution_count": 49,
     "metadata": {},
     "output_type": "execute_result"
    }
   ],
   "source": [
    "s2 = \"hadoop is also a processing fraemwork\"\n",
    "map(lambda x:x.split(\" \"),[s,s2])"
   ]
  },
  {
   "cell_type": "code",
   "execution_count": 60,
   "metadata": {},
   "outputs": [
    {
     "name": "stdout",
     "output_type": "stream",
     "text": [
      "2019-06-14 02:16:54.973627\n",
      "<type 'datetime.datetime'>\n",
      "2019-06-16 02:16:54.973627\n"
     ]
    }
   ],
   "source": [
    "from datetime import datetime,timedelta\n",
    "today_date = datetime.today()\n",
    "print(today_date)\n",
    "print(type(today_date))\n",
    "\n",
    "yes = today_date+timedelta(2)\n",
    "\n",
    "print(yes)"
   ]
  },
  {
   "cell_type": "code",
   "execution_count": 65,
   "metadata": {},
   "outputs": [
    {
     "name": "stdout",
     "output_type": "stream",
     "text": [
      "   0  1\n",
      "0  1  2\n",
      "1  3  4\n",
      "2  5  6\n",
      "<class 'pandas.core.frame.DataFrame'>\n"
     ]
    }
   ],
   "source": [
    "#dataframes from pandas\n",
    "import pandas \n",
    "\n",
    "df = pandas.DataFrame([(1,2),(3,4),(5,6)]) \n",
    "print(df)\n",
    "print(type(df))"
   ]
  }
 ],
 "metadata": {
  "kernelspec": {
   "display_name": "Python 2",
   "language": "python",
   "name": "python2"
  },
  "language_info": {
   "codemirror_mode": {
    "name": "ipython",
    "version": 2
   },
   "file_extension": ".py",
   "mimetype": "text/x-python",
   "name": "python",
   "nbconvert_exporter": "python",
   "pygments_lexer": "ipython2",
   "version": "2.7.15+"
  }
 },
 "nbformat": 4,
 "nbformat_minor": 2
}
